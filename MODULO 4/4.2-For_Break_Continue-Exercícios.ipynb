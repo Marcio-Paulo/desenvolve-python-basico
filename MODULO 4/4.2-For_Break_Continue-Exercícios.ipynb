{
 "cells": [
  {
   "cell_type": "markdown",
   "id": "29e89030",
   "metadata": {},
   "source": [
    "# Módulo 4 - Repetições\n",
    "\n",
    "## Aulas 4.2 - Comando ```for``` e 4.3 Break e Continue"
   ]
  },
  {
   "cell_type": "markdown",
   "id": "a45b42df",
   "metadata": {},
   "source": [
    "### Q1.\n",
    "\n",
    "Crie um programa em Python que utilize o comando for para imprimir os números de 10 a 1, em ordem decrescente."
   ]
  },
  {
   "cell_type": "code",
   "execution_count": 4,
   "id": "55a75b3d",
   "metadata": {},
   "outputs": [
    {
     "name": "stdout",
     "output_type": "stream",
     "text": [
      "10\n",
      "9\n",
      "8\n",
      "7\n",
      "6\n",
      "5\n",
      "4\n",
      "3\n",
      "2\n",
      "1\n"
     ]
    }
   ],
   "source": [
    "## Escreva e execute seu código aqui\n",
    "\n",
    "for n in range(10,0,-1):\n",
    "    print(n)"
   ]
  },
  {
   "cell_type": "markdown",
   "id": "94b47c36",
   "metadata": {},
   "source": [
    "### Q2.\n",
    "\n",
    "Dado um número inteiro positivo informado pelo usuário, crie um programa em Python que utilize o comando for para calcular e exibir a soma dos números de 1 até o número informado. Ou seja, $1 + 2 + 3 + ... + n$\n",
    "\n",
    "Exemplo de interação:\n",
    "```\n",
    "Digite um número: 5\n",
    "A soma dos números de 1 a 5 é 15\n",
    "```\n"
   ]
  },
  {
   "cell_type": "code",
   "execution_count": 21,
   "id": "45b71596",
   "metadata": {},
   "outputs": [
    {
     "name": "stdin",
     "output_type": "stream",
     "text": [
      "Digite um número:  3\n"
     ]
    },
    {
     "name": "stdout",
     "output_type": "stream",
     "text": [
      "A soma dos números de 1 até 3 é: 6\n"
     ]
    }
   ],
   "source": [
    "## Escreva e execute seu código aqui\n",
    "n = int(input(\"Digite um número: \"))\n",
    "soma = 0\n",
    "for i in range(1, n+1):\n",
    "        soma += i\n",
    "print(f\"A soma dos números de 1 até {n} é: {soma}\")\n",
    "    "
   ]
  },
  {
   "cell_type": "markdown",
   "id": "0411d170",
   "metadata": {},
   "source": [
    "### Q3.\n",
    "\n",
    "Escreva um programa que lê 10 valores inteiros positivos do usuário e ao final imprime a média dos valores digitados com duas casas decimais.\n",
    "\n",
    "```\n",
    "Digite 10 números positivos:\n",
    "3\n",
    "2\n",
    "12\n",
    "14\n",
    "20\n",
    "42\n",
    "19\n",
    "0\n",
    "8\n",
    "1\n",
    "A média dos valores digitados é 12.10\n",
    "```"
   ]
  },
  {
   "cell_type": "code",
   "execution_count": null,
   "id": "3f72f358",
   "metadata": {},
   "outputs": [],
   "source": [
    "## Escreva e execute seu código aqui\n"
   ]
  },
  {
   "cell_type": "markdown",
   "id": "d62e27ff",
   "metadata": {},
   "source": [
    "### Q4.\n",
    "\n",
    "Você vai criar um sistema que registra os resultados dos jogos do Atlético MG ao longo de um campeonato. Seu sistema vai receber os resultados de todos os jogos do Galo, e deve calcular a pontuação do time sabendo que vitórias valem 3 pontos, empates 1 ponto e derrotas 0 pontos.\n",
    "\n",
    "Entrada: <br>\n",
    "A primeira linha de entrada é um inteiro N com a quantidade jogos do galo. Para cada jogo você deve ler 2 inteiros, o primeiro com a quantidade de gols do galo e o segundo com a quantidade de gols do time oponente. \n",
    "\n",
    "Saída: <br>\n",
    "Apresente a soma de vitórias, empates e derrotas do galo, junto com o cálculo da pontuação total.\n",
    "\n",
    "Ex:\n",
    "```\n",
    "Entrada:\n",
    "4\n",
    "2\n",
    "0\n",
    "1\n",
    "1\n",
    "0\n",
    "3\n",
    "1\n",
    "0\n",
    "\n",
    "Saída:\n",
    "Vitórias: 2\n",
    "Empates: 1\n",
    "Derrotas: 1\n",
    "Pontuação: 7\n",
    "\n",
    "```\n",
    "\n",
    "\n"
   ]
  },
  {
   "cell_type": "code",
   "execution_count": 18,
   "id": "d3fdfc2a",
   "metadata": {},
   "outputs": [
    {
     "name": "stdin",
     "output_type": "stream",
     "text": [
      "Digite o numero de jogos:  4\n",
      "Digite os gols do Cruzeiro no 1:  2\n",
      "Digite os gols do adversário no 1:  0\n",
      "Digite os gols do Cruzeiro no 2:  1\n",
      "Digite os gols do adversário no 2:  1\n",
      "Digite os gols do Cruzeiro no 3:  0\n",
      "Digite os gols do adversário no 3:  3\n",
      "Digite os gols do Cruzeiro no 4:  1\n",
      "Digite os gols do adversário no 4:  0\n"
     ]
    },
    {
     "name": "stdout",
     "output_type": "stream",
     "text": [
      "Total de Vitórias:  2\n",
      "Total de Empates:  1\n",
      "Total de Derrotas:  1\n",
      "Pontuação:  7\n"
     ]
    }
   ],
   "source": [
    "## Escreva e execute seu código aqui\n",
    "## Sou Cruzeirense, por gols do Cruzeiro\n",
    "n = int(input(\"Digite o numero de jogos: \"))\n",
    "soma_vitorias, soma_empates, soma_derrotas = 0,0,0\n",
    "n += 0\n",
    "for jogo in range (n):\n",
    "    gols_cruzeiro = int(input(f\"Digite os gols do Cruzeiro no {jogo + 1}: \"))\n",
    "    gols_oponente = int(input(f\"Digite os gols do adversário no {jogo + 1}: \"))\n",
    "    \n",
    "    if gols_cruzeiro > gols_oponente:\n",
    "        soma_vitorias += 1\n",
    "    elif gols_cruzeiro <gols_oponente:\n",
    "        soma_derrotas += 1\n",
    "    else:\n",
    "        soma_empates += 1\n",
    "print (\"Total de Vitórias: \", soma_vitorias)\n",
    "print (\"Total de Empates: \", soma_empates)\n",
    "print (\"Total de Derrotas: \", soma_derrotas)\n",
    "print (\"Pontuação: \", 3 * soma_vitorias + soma_empates)"
   ]
  },
  {
   "cell_type": "markdown",
   "id": "fc98604d",
   "metadata": {},
   "source": [
    "### Q5.\n",
    "\n",
    "Faça um programa que lê dois inteiros N e M, e imprime na tela um campo de batalha naval. O tabuleiro deve possuir N linhas e M colunas. A primeira linha é composta por um espaço em branco e o cabeçalho das colunas, ou seja, valores de 1 a M. As N linhas seguintes iniciam com o cabeçalho da linha, ou seja, seu número, seguido de M caracteres \"/\" (barra) indicando uma possível posição jogável. \n",
    "\n",
    "```\n",
    "Entrada:\n",
    "5\n",
    "4\n",
    "\n",
    "Saída:\n",
    "  1 2 3 4 \n",
    "1 / / / / \n",
    "2 / / / / \n",
    "3 / / / / \n",
    "4 / / / / \n",
    "5 / / / / \n",
    "```\n",
    "\n",
    "Para esse exercício, precisamos lembrar que o comando print implicitamente adiciona uma quebra de linha ao final da impressão. Podemos interferir no final da impressão adicionando mais uma entrada ao print. No exemplo, finalizamos cada linha com um espaço em branco:\n",
    "```python\n",
    "print(\"Texto qualquer\", end = \" \")\n",
    "```"
   ]
  },
  {
   "cell_type": "code",
   "execution_count": 20,
   "id": "a60ef197",
   "metadata": {},
   "outputs": [
    {
     "name": "stdin",
     "output_type": "stream",
     "text": [
      " 5\n",
      " 4\n"
     ]
    },
    {
     "name": "stdout",
     "output_type": "stream",
     "text": [
      "  1 2 3 4 \n",
      "1 / / / / \n",
      "2 / / / / \n",
      "3 / / / / \n",
      "4 / / / / \n",
      "5 / / / / \n"
     ]
    }
   ],
   "source": [
    "## Escreva e execute seu código aqui\n",
    "# Lê os valores de N e M\n",
    "N = int(input())\n",
    "M = int(input())\n",
    "\n",
    "# Imprime o cabeçalho das colunas\n",
    "print(\" \", end=\" \")\n",
    "for coluna in range(1, M + 1):\n",
    "    print(coluna, end=\" \")\n",
    "print()\n",
    "\n",
    "# Imprime as linhas do tabuleiro\n",
    "for linha in range(1, N + 1):\n",
    "    print(linha, end=\" \")  # Cabeçalho da linha\n",
    "    for _ in range(M):\n",
    "        print(\"/\", end=\" \")  # Posições jogáveis\n",
    "    print()\n"
   ]
  },
  {
   "cell_type": "markdown",
   "id": "4654dc0b",
   "metadata": {},
   "source": [
    "---\n",
    "## Break e Continue"
   ]
  },
  {
   "cell_type": "markdown",
   "id": "24fe9d85",
   "metadata": {},
   "source": [
    "### Q6.\n",
    "\n",
    "Escreva um programa que lê uma quantidade indefinida de valores e informa o maior e o menor valor digitados. A leitura é encerrada quando o usuário digitar o valor 0 (zero).\n",
    "\n",
    "```\n",
    "Entrada:\n",
    "12\n",
    "-1\n",
    "29\n",
    "11\n",
    "-5\n",
    "0\n",
    "\n",
    "Saída:\n",
    "Maior: 29\n",
    "Menor: -5\n",
    "```"
   ]
  },
  {
   "cell_type": "code",
   "execution_count": 4,
   "id": "ee1c466a",
   "metadata": {},
   "outputs": [
    {
     "name": "stdin",
     "output_type": "stream",
     "text": [
      "Digite um valor:  12\n",
      "Digite um valor:  -1\n",
      "Digite um valor:  29\n",
      "Digite um valor:  11\n",
      "Digite um valor:  -5\n",
      "Digite um valor:  0\n"
     ]
    },
    {
     "name": "stdout",
     "output_type": "stream",
     "text": [
      "Maior valor: 29\n",
      "Menor valor: -5\n"
     ]
    }
   ],
   "source": [
    "## Escreva e execute seu código aqui\n",
    "# Programa para encontrar o maior e o menor valor\n",
    "\n",
    "maior = float(input(\"Digite um valor: \"))\n",
    "menor = float(input(\"Digite um valor: \"))\n",
    "\n",
    "while True:\n",
    "    n = int(input(\"Digite um valor: \"))\n",
    "    if n == 0:\n",
    "        break\n",
    "    \n",
    "    if n > maior:\n",
    "        maior = n\n",
    "    if n < menor:\n",
    "        menor = n\n",
    "\n",
    "if maior is not None and menor is not None:\n",
    "    print(f\"Maior valor: {maior}\")\n",
    "    print(f\"Menor valor: {menor}\")\n",
    "else:\n",
    "    print(\"Nenhum valor foi digitado.\")\n"
   ]
  },
  {
   "cell_type": "markdown",
   "id": "30d486f7",
   "metadata": {},
   "source": [
    "### Q7.\n",
    "\n",
    "Escreva um programa que lê uma quantidade indefinida de valores e informa o **produto** dos valores positivos digitados. A leitura é encerrada quando o usuário digitar o valor 0 (zero).\n",
    "\n",
    "```\n",
    "Entrada:\n",
    "2\n",
    "-1\n",
    "1\n",
    "3\n",
    "-5\n",
    "0\n",
    "\n",
    "Saída:\n",
    "Produto: 6\n",
    "```"
   ]
  },
  {
   "cell_type": "code",
   "execution_count": 5,
   "id": "2f1ac324",
   "metadata": {},
   "outputs": [
    {
     "name": "stdout",
     "output_type": "stream",
     "text": [
      "Digite valores inteiros (0 para encerrar):\n"
     ]
    },
    {
     "name": "stdin",
     "output_type": "stream",
     "text": [
      "Digite um valor:  2\n",
      "Digite um valor:  -1\n",
      "Digite um valor:  1\n",
      "Digite um valor:  3\n",
      "Digite um valor:  -5\n",
      "Digite um valor:  0\n"
     ]
    },
    {
     "name": "stdout",
     "output_type": "stream",
     "text": [
      "O produto dos valores positivos digitados é: 6\n"
     ]
    }
   ],
   "source": [
    "## Escreva e execute seu código aqui\n",
    "# Programa para calcular o produto de valores positivos\n",
    "\n",
    "produto = 1\n",
    "valores_positivos = False\n",
    "\n",
    "print(\"Digite valores inteiros (0 para encerrar):\")\n",
    "\n",
    "while True:\n",
    "    numero = int(input(\"Digite um valor: \"))\n",
    "    if numero == 0:\n",
    "        break\n",
    "    if numero > 0:\n",
    "        produto *= numero\n",
    "        valores_positivos = True\n",
    "\n",
    "if valores_positivos:\n",
    "    print(f\"O produto dos valores positivos digitados é: {produto}\")\n",
    "else:\n",
    "    print(\"Nenhum valor positivo foi digitado.\")\n"
   ]
  },
  {
   "cell_type": "markdown",
   "id": "e932f3cf",
   "metadata": {},
   "source": [
    "### Q8.\n",
    "\n",
    "Vamos fazer uma calculadora que aceita expressões aritméticas de qualquer tamanho até que o usuário digite a palavra \"Fim\". Sua calculadora executa apenas as operações \"+\", \"-\".\n",
    "\n",
    "```\n",
    "Entrada:\n",
    "5\n",
    "+\n",
    "8\n",
    "-\n",
    "3\n",
    "+\n",
    "2\n",
    "Fim\n",
    "\n",
    "Saída:\n",
    "12\n",
    "```"
   ]
  },
  {
   "cell_type": "code",
   "execution_count": 7,
   "id": "e835d870",
   "metadata": {},
   "outputs": [
    {
     "name": "stdout",
     "output_type": "stream",
     "text": [
      "Bem-vindo à calculadora!\n",
      "Digite expressões aritméticas usando '+' e '-' (digite 'Fim' para sair):\n"
     ]
    },
    {
     "name": "stdin",
     "output_type": "stream",
     "text": [
      "Digite a expressão:  5+8-3+2\n"
     ]
    },
    {
     "name": "stdout",
     "output_type": "stream",
     "text": [
      "Resultado: 12\n"
     ]
    },
    {
     "name": "stdin",
     "output_type": "stream",
     "text": [
      "Digite a expressão:  fim\n"
     ]
    },
    {
     "name": "stdout",
     "output_type": "stream",
     "text": [
      "Calculadora encerrada.\n"
     ]
    }
   ],
   "source": [
    "## Escreva e execute seu código aqui\n",
    "# Calculadora que aceita expressões com \"+\" e \"-\" até o usuário digitar \"Fim\"\n",
    "\n",
    "print(\"Bem-vindo à calculadora!\")\n",
    "print(\"Digite expressões aritméticas usando '+' e '-' (digite 'Fim' para sair):\")\n",
    "\n",
    "while True:\n",
    "    expressao = input(\"Digite a expressão: \").strip()\n",
    "    if expressao.lower() == \"fim\":\n",
    "        print(\"Calculadora encerrada.\")\n",
    "        break\n",
    "    try:\n",
    "        # Remove espaços em branco e avalia a expressão\n",
    "        resultado = eval(expressao, {\"__builtins__\": None}, {})\n",
    "        print(f\"Resultado: {resultado}\")\n",
    "    except Exception:\n",
    "        print(\"Expressão inválida! Use apenas números, '+' e '-'.\")\n"
   ]
  },
  {
   "cell_type": "code",
   "execution_count": null,
   "id": "a1271969-46c8-477b-8c02-9a2d2babe5ff",
   "metadata": {},
   "outputs": [],
   "source": []
  }
 ],
 "metadata": {
  "kernelspec": {
   "display_name": "Python 3 (ipykernel)",
   "language": "python",
   "name": "python3"
  },
  "language_info": {
   "codemirror_mode": {
    "name": "ipython",
    "version": 3
   },
   "file_extension": ".py",
   "mimetype": "text/x-python",
   "name": "python",
   "nbconvert_exporter": "python",
   "pygments_lexer": "ipython3",
   "version": "3.12.2"
  }
 },
 "nbformat": 4,
 "nbformat_minor": 5
}
