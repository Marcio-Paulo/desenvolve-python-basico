{
 "cells": [
  {
   "cell_type": "code",
   "execution_count": 6,
   "id": "74a57970-fdac-4f8e-a3d3-d2094a728231",
   "metadata": {},
   "outputs": [
    {
     "name": "stdout",
     "output_type": "stream",
     "text": [
      "Meu primeiro código\n"
     ]
    }
   ],
   "source": [
    "print(\"Meu primeiro código\")"
   ]
  },
  {
   "cell_type": "code",
   "execution_count": 7,
   "id": "982fc98b-2909-4424-aa85-dbb7d413fce4",
   "metadata": {},
   "outputs": [
    {
     "name": "stdout",
     "output_type": "stream",
     "text": [
      "11\n",
      "3\n",
      "50\n",
      "2.0\n"
     ]
    }
   ],
   "source": [
    "x=10\n",
    "y=5\n",
    "print(x+1)\n",
    "print(y-2)\n",
    "print(y*x)\n",
    "print(x/y)"
   ]
  },
  {
   "cell_type": "code",
   "execution_count": 5,
   "id": "105d3178-8219-401b-8c97-46b09471ebce",
   "metadata": {},
   "outputs": [
    {
     "ename": "SyntaxError",
     "evalue": "unterminated string literal (detected at line 1) (1014393702.py, line 1)",
     "output_type": "error",
     "traceback": [
      "\u001b[1;36m  Cell \u001b[1;32mIn[5], line 1\u001b[1;36m\u001b[0m\n\u001b[1;33m    print(\"ola)\u001b[0m\n\u001b[1;37m          ^\u001b[0m\n\u001b[1;31mSyntaxError\u001b[0m\u001b[1;31m:\u001b[0m unterminated string literal (detected at line 1)\n"
     ]
    }
   ],
   "source": [
    "print(\"ola)"
   ]
  },
  {
   "cell_type": "code",
   "execution_count": null,
   "id": "eb5c6e91-4f55-4da7-a449-efbfc76b7889",
   "metadata": {},
   "outputs": [],
   "source": []
  }
 ],
 "metadata": {
  "kernelspec": {
   "display_name": "Python 3 (ipykernel)",
   "language": "python",
   "name": "python3"
  },
  "language_info": {
   "codemirror_mode": {
    "name": "ipython",
    "version": 3
   },
   "file_extension": ".py",
   "mimetype": "text/x-python",
   "name": "python",
   "nbconvert_exporter": "python",
   "pygments_lexer": "ipython3",
   "version": "3.12.2"
  }
 },
 "nbformat": 4,
 "nbformat_minor": 5
}
